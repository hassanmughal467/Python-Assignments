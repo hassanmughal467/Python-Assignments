{
 "cells": [
  {
   "cell_type": "code",
   "execution_count": 1,
   "metadata": {},
   "outputs": [
    {
     "data": {
      "text/plain": [
       "\"10.2 Write a program to read through the mbox-short.txt and figure out the distribution by\\nhour of the day for each of the messages. You can pull the hour out from the 'From ' line by\\nfinding the time and then splitting the string a second time using a colon.\\nFrom stephen.marquard@uct.ac.za Sat Jan  5 09:14:16 2008\\nOnce you have accumulated the counts for each hour, print out the counts, sorted by hour as shown below.\""
      ]
     },
     "execution_count": 1,
     "metadata": {},
     "output_type": "execute_result"
    }
   ],
   "source": [
    "'''10.2 Write a program to read through the mbox-short.txt and figure out the distribution by\n",
    "hour of the day for each of the messages. You can pull the hour out from the 'From ' line by\n",
    "finding the time and then splitting the string a second time using a colon.\n",
    "From stephen.marquard@uct.ac.za Sat Jan  5 09:14:16 2008\n",
    "Once you have accumulated the counts for each hour, print out the counts, sorted by hour as shown below.'''"
   ]
  },
  {
   "cell_type": "code",
   "execution_count": 2,
   "metadata": {},
   "outputs": [
    {
     "name": "stdout",
     "output_type": "stream",
     "text": [
      "Enter a file name:mbox-short.txt\n",
      "04 3\n",
      "06 1\n",
      "07 1\n",
      "09 2\n",
      "10 3\n",
      "11 6\n",
      "14 1\n",
      "15 2\n",
      "16 4\n",
      "17 2\n",
      "18 1\n",
      "19 1\n"
     ]
    }
   ],
   "source": [
    "file=input(\"Enter a file name:\")\n",
    "count=dict()\n",
    "fopen=open(file)\n",
    "for line in fopen:\n",
    "    line=line.rstrip()\n",
    "    if not line.startswith('From'):\n",
    "        continue\n",
    "    line=line.split()\n",
    "    if len(line)>2:\n",
    "        line=str(line[5])\n",
    "        line=line.split(\":\")\n",
    "        count[line[0]]=count.get(line[0],0)+1\n",
    "l=list()\n",
    "for s,v in count.items():\n",
    "    l.append((s,v))\n",
    "s=sorted(l)\n",
    "for k,v in s:\n",
    "    print(k,v)\n",
    "  "
   ]
  },
  {
   "cell_type": "code",
   "execution_count": 3,
   "metadata": {},
   "outputs": [
    {
     "name": "stdout",
     "output_type": "stream",
     "text": [
      "1 06\n",
      "1 07\n",
      "1 14\n",
      "1 18\n",
      "1 19\n",
      "2 09\n",
      "2 15\n",
      "2 17\n",
      "3 04\n",
      "3 10\n",
      "4 16\n",
      "6 11\n"
     ]
    }
   ],
   "source": [
    "l=list()\n",
    "for s,v in count.items():\n",
    "    l.append((v,s))\n",
    "t=sorted(l)\n",
    "for s,v in t:\n",
    "    print(s,v)"
   ]
  },
  {
   "cell_type": "code",
   "execution_count": null,
   "metadata": {},
   "outputs": [],
   "source": []
  }
 ],
 "metadata": {
  "kernelspec": {
   "display_name": "Python 3",
   "language": "python",
   "name": "python3"
  },
  "language_info": {
   "codemirror_mode": {
    "name": "ipython",
    "version": 3
   },
   "file_extension": ".py",
   "mimetype": "text/x-python",
   "name": "python",
   "nbconvert_exporter": "python",
   "pygments_lexer": "ipython3",
   "version": "3.7.3"
  }
 },
 "nbformat": 4,
 "nbformat_minor": 2
}
