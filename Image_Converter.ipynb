{
 "cells": [
  {
   "cell_type": "code",
   "execution_count": 7,
   "metadata": {},
   "outputs": [],
   "source": [
    "from PIL import Image\n",
    "import pytesseract as tess\n",
    "tess.pytesseract.tesseract_cmd=r\"C:\\Program Files\\Tesseract-OCR\\tesseract\""
   ]
  },
  {
   "cell_type": "markdown",
   "metadata": {},
   "source": [
    "# Image Converter"
   ]
  },
  {
   "cell_type": "code",
   "execution_count": 8,
   "metadata": {},
   "outputs": [],
   "source": [
    "#image convert \n",
    "im = Image.open('2.jpeg')\n",
    "im.save('2.png')\n"
   ]
  },
  {
   "cell_type": "code",
   "execution_count": 10,
   "metadata": {},
   "outputs": [
    {
     "name": "stdout",
     "output_type": "stream",
     "text": [
      "Extra credit: develop a heuristic H3 that is is better than H1 and is admissible.\n",
      "Prove/demonstrate that H3 is admissible.\n",
      "\n",
      "Approaches\n",
      "\n",
      "You will use two approaches for this problem: A* and greedy hill climbing with restarts. You are\n",
      "free to make use of sideways moves, first choice hill climbing, or simulated annealing. You are\n",
      "not required to use any particular technique for deciding how to allocate your time. However,\n",
      "your decisions should have empirical support. In other words, you will need to present data for\n",
      "why (for example) you do first-choice hill climbing with at most 3 sideways moves.\n",
      "\n",
      "For hill climbing with restarts, you should use H1 and H2 and perform greedy hill climbing. If\n",
      "you have not found a solution, and fewer than 10 seconds have elapsed since the program\n",
      "started running, you should do another iteration of hill climbing with the same start state (you\n",
      "may not change the initial configuration of Queens).\n",
      "\n",
      "Program behavior\n",
      "\n",
      "Your program should take as input the N value for the N-queens problem, the type of search to\n",
      "conduct (1 for A*, 2 for greedy hill climbing), and which heuristic to use (H1 or H2). For\n",
      "example, passing in a “30 1 H2” results in attempting to solve a 30-queens puzzle with A*\n",
      "search using H2. You can take input as command-line input, or read it from a file if\n",
      "command-line input is difficult for the language you are using. Just explain how to invoke your\n",
      "program in your writeup.\n",
      "\n",
      "Your program should output: -\n",
      "\n",
      "¢ arisstaie (a simple text representation is fine)\n",
      "er of no xpanded. Consider an expansion as when you visit a node and\n",
      "compute the cost for all of the possible next moves. For hill climbing, remember to count\n",
      "\n",
      "this value across all of the restarts!\n",
      "\n",
      "  \n",
      "\n",
      "6 Ctive a consider how many nodes were expanded vs. the length\n",
      "\n",
      "of the solution\n",
      "\n",
      "6 i oe the puzzle. Note that A* computes cost automatically, but you will\n",
      "need to extend greedy search to keep track of this number. Note that cost does not\n",
      "\n",
      "include any failed runs with greedy search -- just compute the cost of the path it\n",
      "computes for the board it solves. (Note the comparison with A* is not quite fair since\n",
      "greedy search gets to discard its results from tougher boards)\n",
      "\n",
      "6 The sequence of moves needed to solve the puzzle, if any (hill climbing may fail).\n",
      "\n",
      "SSS\n",
      "Writeup —\n",
      "\n",
      "You should conduct experiments to determine:\n"
     ]
    }
   ],
   "source": [
    "print(pytesseract.image_to_string(Image.open(\"2.png\"),lang=\"eng\"))"
   ]
  },
  {
   "cell_type": "code",
   "execution_count": null,
   "metadata": {},
   "outputs": [],
   "source": []
  }
 ],
 "metadata": {
  "kernelspec": {
   "display_name": "Python 3",
   "language": "python",
   "name": "python3"
  },
  "language_info": {
   "codemirror_mode": {
    "name": "ipython",
    "version": 3
   },
   "file_extension": ".py",
   "mimetype": "text/x-python",
   "name": "python",
   "nbconvert_exporter": "python",
   "pygments_lexer": "ipython3",
   "version": "3.7.3"
  }
 },
 "nbformat": 4,
 "nbformat_minor": 2
}
