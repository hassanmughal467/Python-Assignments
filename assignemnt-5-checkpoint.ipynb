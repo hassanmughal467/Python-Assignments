{
 "cells": [
  {
   "cell_type": "markdown",
   "metadata": {},
   "source": [
    "# Question:1\n",
    "Write a Python function to calculate the factorial of a number (a non-negative\n",
    "integer). The function accepts the number as an argument."
   ]
  },
  {
   "cell_type": "code",
   "execution_count": 26,
   "metadata": {},
   "outputs": [
    {
     "name": "stdout",
     "output_type": "stream",
     "text": [
      "Factorial of 3 is -6\n"
     ]
    }
   ],
   "source": [
    "def factorial(n):\n",
    "    mul=1\n",
    "    if n==0:\n",
    "        return 0\n",
    "    elif n<0:\n",
    "        n=n*-1\n",
    "        for s in range(1,n+1):\n",
    "            mul=mul*s\n",
    "        print(f\"Factorial of {n} is -{mul}\") \n",
    "    else:\n",
    "        for s in range(1,n+1):\n",
    "            mul=mul*s\n",
    "        print(f\"Factorial of {n} is {mul}\")\n",
    "\n",
    "factorial(-3)"
   ]
  },
  {
   "cell_type": "markdown",
   "metadata": {},
   "source": [
    "###### Question:2\n",
    "Write a Python function that accepts a string and calculate the number of upper\n",
    "case letters and lower case letters."
   ]
  },
  {
   "cell_type": "code",
   "execution_count": 11,
   "metadata": {},
   "outputs": [
    {
     "name": "stdout",
     "output_type": "stream",
     "text": [
      "enter string to check upper and lower: sdgwJBJBJu\n",
      "lower case 5\n",
      "upper case 5\n"
     ]
    }
   ],
   "source": [
    "string=input('enter string to check upper and lower: ')\n",
    "count1=0\n",
    "count2=0\n",
    "for i in string:\n",
    "    if(i.islower()):\n",
    "        count1=count1+1\n",
    "    elif(i.isupper()):\n",
    "        count2=count2+1\n",
    "print('lower case',count1)\n",
    "print('upper case',count2)\n",
    "    "
   ]
  },
  {
   "cell_type": "markdown",
   "metadata": {},
   "source": [
    "# Question:3\n",
    "Write a Python function to print the even numbers from a given list."
   ]
  },
  {
   "cell_type": "code",
   "execution_count": 10,
   "metadata": {},
   "outputs": [
    {
     "name": "stdout",
     "output_type": "stream",
     "text": [
      "[2, 4, 6, 8]\n"
     ]
    }
   ],
   "source": [
    "def even():\n",
    "    s=[2,3,4,5,6,7,8,9]\n",
    "    a=[]\n",
    "    for ss in s:\n",
    "        if(ss%2==0):\n",
    "            a.append(ss)\n",
    "    print(a)\n",
    "even()"
   ]
  },
  {
   "cell_type": "markdown",
   "metadata": {},
   "source": [
    "# Question:4\n",
    "Write a Python function that checks whether a passed string is palindrome or not.\n",
    "Note: A palindrome is a word, phrase, or sequence that reads the same\n",
    "backward as forward, e.g., madam"
   ]
  },
  {
   "cell_type": "code",
   "execution_count": 9,
   "metadata": {},
   "outputs": [
    {
     "name": "stdout",
     "output_type": "stream",
     "text": [
      "plaindrome\n"
     ]
    }
   ],
   "source": [
    "v=\"rotor\"\n",
    "l=len(v)\n",
    "s=\"\"\n",
    "for vv in range(l):\n",
    "    l=l-1\n",
    "    s=s+v[l]   \n",
    "if s==v:\n",
    "    print(\"plaindrome\")\n",
    "else:\n",
    "    print(\"not\")\n",
    "    "
   ]
  },
  {
   "cell_type": "markdown",
   "metadata": {},
   "source": [
    "# Question:5\n",
    "Write a Python function that takes a number as a parameter and check the\n",
    "number is prime or not."
   ]
  },
  {
   "cell_type": "code",
   "execution_count": 27,
   "metadata": {},
   "outputs": [
    {
     "name": "stdout",
     "output_type": "stream",
     "text": [
      "enter number: 8\n",
      "not prime\n"
     ]
    }
   ],
   "source": [
    "n=int(input(\"enter number: \"))\n",
    "if(n>0):\n",
    "    nn=0\n",
    "    for s in range(1,n):\n",
    "        if(n%s==0):\n",
    "            nn+=1\n",
    "    if(nn==1):\n",
    "         print(\"prime\")\n",
    "    else:\n",
    "        print(\"not prime\")\n",
    "else:\n",
    "    print(\"invalid number\")"
   ]
  },
  {
   "cell_type": "markdown",
   "metadata": {},
   "source": [
    "# Question: 6\n",
    "Suppose a customer is shopping in a market and you need to print all the items\n",
    "which user bought from market.\n",
    "Write a function which accepts the multiple arguments of user shopping list and\n",
    "print all the items which user bought from market.\n",
    "(Hint: Arbitrary Argument concept can make this task ease)"
   ]
  },
  {
   "cell_type": "code",
   "execution_count": 2,
   "metadata": {},
   "outputs": [
    {
     "name": "stdout",
     "output_type": "stream",
     "text": [
      "apple\n",
      "banana\n",
      "oranges\n",
      "clothes\n"
     ]
    }
   ],
   "source": [
    "\n",
    "def all(*itm):\n",
    "    for i in itm:\n",
    "        print(i)\n",
    "all(\"apple\",\"banana\",\"oranges\",\"clothes\")       "
   ]
  },
  {
   "cell_type": "code",
   "execution_count": null,
   "metadata": {},
   "outputs": [],
   "source": []
  }
 ],
 "metadata": {
  "kernelspec": {
   "display_name": "Python 3",
   "language": "python",
   "name": "python3"
  },
  "language_info": {
   "codemirror_mode": {
    "name": "ipython",
    "version": 3
   },
   "file_extension": ".py",
   "mimetype": "text/x-python",
   "name": "python",
   "nbconvert_exporter": "python",
   "pygments_lexer": "ipython3",
   "version": "3.7.3"
  }
 },
 "nbformat": 4,
 "nbformat_minor": 2
}
