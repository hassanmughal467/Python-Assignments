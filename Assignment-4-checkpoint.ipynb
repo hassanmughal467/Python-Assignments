{
 "cells": [
  {
   "cell_type": "markdown",
   "metadata": {},
   "source": [
    "# Q1 Use a dictionary to store information about a person you know. Store their first name, last name, age, and the city in which they live. You should have keys such as first_name, last_name, age, and city. Print each piece of information stored in your dictionary. Add a new key value pair about qualification then update the qualification value to high academic level then delete it."
   ]
  },
  {
   "cell_type": "code",
   "execution_count": 6,
   "metadata": {},
   "outputs": [
    {
     "name": "stdout",
     "output_type": "stream",
     "text": [
      "{'first_name': 'Muhammad', 'last_name': 'Hassan', 'age': 21, 'city': 'Karachi'}\n"
     ]
    }
   ],
   "source": [
    "person ={\n",
    "    \"first_name\":\"Muhammad\",\n",
    "    \"last_name\":\"Hassan\",\n",
    "    \"age\":21,\n",
    "    \"city\": \"Karachi\"\n",
    "\n",
    "}\n",
    "print(person)"
   ]
  },
  {
   "cell_type": "code",
   "execution_count": 7,
   "metadata": {},
   "outputs": [
    {
     "name": "stdout",
     "output_type": "stream",
     "text": [
      "{'first_name': 'Muhammad', 'last_name': 'Hassan', 'age': 21, 'city': 'Karachi', 'qualification': 'intermediate'}\n"
     ]
    }
   ],
   "source": [
    "person[\"qualification\"]='intermediate'\n",
    "print(person)"
   ]
  },
  {
   "cell_type": "code",
   "execution_count": 8,
   "metadata": {},
   "outputs": [
    {
     "name": "stdout",
     "output_type": "stream",
     "text": [
      "{'first_name': 'Muhammad', 'last_name': 'Hassan', 'age': 21, 'city': 'Karachi'}\n"
     ]
    }
   ],
   "source": [
    "del person[\"qualification\"]\n",
    "print(person)"
   ]
  },
  {
   "cell_type": "markdown",
   "metadata": {},
   "source": [
    "# Q2 Make a dictionary called cities. Use the names of three cities as keys in your dictionary. Create a dictionary of information about each city and include the country that the city is in, its approximate population, and one fact about that city. The keys for each city’s dictionary should be something like country, population, and fact. Print the name of each city and all of the information you have stored about it."
   ]
  },
  {
   "cell_type": "code",
   "execution_count": 4,
   "metadata": {},
   "outputs": [],
   "source": [
    "ss=[{\n",
    "    \"cities\":\"Karachi\",\n",
    "    \"country\":\"Pakistan\",\n",
    "    \"population\":\"14.91 million\",\n",
    "    \"fact\":\"city of lights\"\n",
    "    },\n",
    "    {\n",
    "    \"cities\":\"Paris\",\n",
    "    \"country\":\"France\",\n",
    "    \"population\":\"2.121 million\",\n",
    "    \"fact\":\"city of love\"\n",
    "    },\n",
    "    {\n",
    "    \"cities\":\"Las Vegas\",\n",
    "    \"country\":\"United State\",\n",
    "    \"population\":\"2 million\",\n",
    "    \"fact\":\"city of sins\"\n",
    "    }\n",
    "]\n"
   ]
  },
  {
   "cell_type": "code",
   "execution_count": 5,
   "metadata": {},
   "outputs": [
    {
     "name": "stdout",
     "output_type": "stream",
     "text": [
      "City Name: Karachi\n",
      "Country :Pakistan\n",
      "Population :14.91 million\n",
      "Fact :city of lights\n",
      "-----------------------------------\n",
      "City Name: Paris\n",
      "Country :France\n",
      "Population :2.121 million\n",
      "Fact :city of love\n",
      "-----------------------------------\n",
      "City Name: Las Vegas\n",
      "Country :United State\n",
      "Population :2 million\n",
      "Fact :city of sins\n",
      "-----------------------------------\n"
     ]
    }
   ],
   "source": [
    "for city in ss:\n",
    "    print(\"City Name: \" +city['cities']+'\\n'+ \"Country :\"+city['country'] +'\\n'+\"Population :\"+city['population']+'\\n'+\"Fact :\"+city['fact'])\n",
    "    print(\"-----------------------------------\")"
   ]
  },
  {
   "cell_type": "markdown",
   "metadata": {},
   "source": [
    "# Q3 A movie theater charges different ticket prices depending on a person’s age. If a person is under the age of 3, the ticket is free; if they are between 3 and 12, the ticket is 10;𝑎𝑛𝑑𝑖𝑓𝑡ℎ𝑒𝑦𝑎𝑟𝑒𝑜𝑣𝑒𝑟𝑎𝑔𝑒12,𝑡ℎ𝑒𝑡𝑖𝑐𝑘𝑒𝑡𝑖𝑠 15. Write a loop in which you ask users their age, and then tell them the cost of their movie ticket.\n"
   ]
  },
  {
   "cell_type": "code",
   "execution_count": 1,
   "metadata": {},
   "outputs": [
    {
     "name": "stdout",
     "output_type": "stream",
     "text": [
      "please enter you age = 5\n",
      "please pay 10$\n",
      "please enter you age = 3\n",
      "free\n",
      "please enter you age = 55\n",
      "please pay 15$\n"
     ]
    }
   ],
   "source": [
    "while True:\n",
    "    age=int(input('please enter you age = '))\n",
    "\n",
    "    if age == 3:\n",
    "        print('free')\n",
    "    elif age >=4 and age <=12:\n",
    "        print(\"please pay 10$\")\n",
    "    elif age >= 12:\n",
    "        print(\"please pay 15$\")\n",
    "        break"
   ]
  },
  {
   "cell_type": "markdown",
   "metadata": {},
   "source": [
    "# Q4Write a function called favorite_book() that accepts one parameter, title. The function should print a message, such as One of my favorite books is Alice in Wonderland. Call the function, making sure to include a book title as an argument in the function call."
   ]
  },
  {
   "cell_type": "code",
   "execution_count": 2,
   "metadata": {},
   "outputs": [
    {
     "name": "stdout",
     "output_type": "stream",
     "text": [
      "One of my favourite book is Alice in the Wonderland\n"
     ]
    }
   ],
   "source": [
    "def favourite_book(title):\n",
    "    print(\"One of my favourite book is\",title)\n",
    "    \n",
    "favourite_book('Alice in the Wonderland')\n",
    "    "
   ]
  },
  {
   "cell_type": "markdown",
   "metadata": {},
   "source": [
    "# Guess the number game Write a program which randomly generate a number between 1 to 30 and ask the user in input field to guess the correct number. Give three chances to user guess the number and also give hint to user if hidden number is greater or smaller than the number he given to input field."
   ]
  },
  {
   "cell_type": "code",
   "execution_count": 1,
   "metadata": {},
   "outputs": [
    {
     "name": "stdout",
     "output_type": "stream",
     "text": [
      "Guess Number: 3\n",
      "hint:3 is less thn 8\n",
      "Guess Number: 8\n",
      "Right\n"
     ]
    }
   ],
   "source": [
    "from random import randint\n",
    "t=randint(1,10)\n",
    "c=1\n",
    "while c<=3:\n",
    "    n=int(input(\"Guess Number: \"))\n",
    "    if n<t:\n",
    "        print(f\"hint:{n} is less thn {t}\")\n",
    "    elif n>t:\n",
    "        print(f\"hint:{n} is greater thn {t}\")\n",
    "    else:\n",
    "        print(\"Right\")\n",
    "        break\n",
    "    c+=1\n",
    "    \n"
   ]
  },
  {
   "cell_type": "code",
   "execution_count": null,
   "metadata": {},
   "outputs": [],
   "source": []
  }
 ],
 "metadata": {
  "kernelspec": {
   "display_name": "Python 3",
   "language": "python",
   "name": "python3"
  },
  "language_info": {
   "codemirror_mode": {
    "name": "ipython",
    "version": 3
   },
   "file_extension": ".py",
   "mimetype": "text/x-python",
   "name": "python",
   "nbconvert_exporter": "python",
   "pygments_lexer": "ipython3",
   "version": "3.7.3"
  }
 },
 "nbformat": 4,
 "nbformat_minor": 2
}
