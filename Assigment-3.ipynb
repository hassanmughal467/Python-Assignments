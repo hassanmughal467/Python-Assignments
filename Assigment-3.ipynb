{
 "cells": [
  {
   "cell_type": "markdown",
   "metadata": {},
   "source": [
    "# 1. Make a calculator using Python with addition , subtraction , multiplication ,division and power."
   ]
  },
  {
   "cell_type": "code",
   "execution_count": null,
   "metadata": {},
   "outputs": [],
   "source": [
    "val1=int(input(\"Enter first number:\"))\n",
    "val2=int(input(\"Enter first number:\"))\n",
    "val=input(\"Enter your operator:\")\n",
    "if val=='+':\n",
    "    val3=val1+val2\n",
    "    print(\"Addition =\",val3)\n",
    "elif val=='*':\n",
    "    val3=val1*val2\n",
    "    print(\"Multiplication =\",val3)\n",
    "elif val=='-':\n",
    "    val3=val1+val2\n",
    "    print(\"Subtraction =\",val3)\n",
    "elif val=='/':\n",
    "    val3=val1//val2\n",
    "    print(\"division =\",val3)\n",
    "elif val=='^':\n",
    "    val3=val1**val2\n",
    "    print(\"Power =\",val3)"
   ]
  },
  {
   "cell_type": "markdown",
   "metadata": {},
   "source": [
    "# 2. Write a program to check if there is any numeric value in list using for loop"
   ]
  },
  {
   "cell_type": "code",
   "execution_count": 78,
   "metadata": {},
   "outputs": [
    {
     "name": "stdout",
     "output_type": "stream",
     "text": [
      "[3, 7, 4]\n"
     ]
    }
   ],
   "source": [
    "L=['HASSAN','ZAIN','HAMMAD',3,'HFHD',7,4]\n",
    "l=[]\n",
    "for i in L:\n",
    "    if type(i)==int:\n",
    "        l.append(i)\n",
    "print(l)\n",
    "        \n"
   ]
  },
  {
   "cell_type": "markdown",
   "metadata": {},
   "source": [
    "# 3. Write a Python script to add a key to a dictionary"
   ]
  },
  {
   "cell_type": "code",
   "execution_count": 79,
   "metadata": {},
   "outputs": [
    {
     "data": {
      "text/plain": [
       "{'Name': 'Hassan', 'Age': '21', 'Roll-Num': 123}"
      ]
     },
     "execution_count": 79,
     "metadata": {},
     "output_type": "execute_result"
    }
   ],
   "source": [
    "dic={'Name':'Hassan','Age':'21','Roll-Num':123}\n",
    "dic"
   ]
  },
  {
   "cell_type": "code",
   "execution_count": 80,
   "metadata": {},
   "outputs": [],
   "source": [
    "dic['father Name']='Hanif'"
   ]
  },
  {
   "cell_type": "code",
   "execution_count": 81,
   "metadata": {},
   "outputs": [
    {
     "data": {
      "text/plain": [
       "{'Name': 'Hassan', 'Age': '21', 'Roll-Num': 123, 'father Name': 'Hanif'}"
      ]
     },
     "execution_count": 81,
     "metadata": {},
     "output_type": "execute_result"
    }
   ],
   "source": [
    "dic"
   ]
  },
  {
   "cell_type": "markdown",
   "metadata": {},
   "source": [
    "# 4. Write a Python program to sum all the numeric items in a dictionary"
   ]
  },
  {
   "cell_type": "code",
   "execution_count": 82,
   "metadata": {},
   "outputs": [
    {
     "name": "stdout",
     "output_type": "stream",
     "text": [
      "31\n"
     ]
    }
   ],
   "source": [
    "d={'ONE':6,'TWO':22,'THREE':3}\n",
    "sum=0\n",
    "for i,j in d.items():\n",
    "    sum=sum+j\n",
    "print(sum)"
   ]
  },
  {
   "cell_type": "markdown",
   "metadata": {},
   "source": [
    "# 5. Write a program to identify duplicate values from list"
   ]
  },
  {
   "cell_type": "code",
   "execution_count": 83,
   "metadata": {},
   "outputs": [
    {
     "name": "stdout",
     "output_type": "stream",
     "text": [
      "[1, 2, 3, 5, 7]\n"
     ]
    }
   ],
   "source": [
    "l=[1,2,3,4,3,1,2,5,8,9,5,1,7,7]\n",
    "size = len(l) \n",
    "repeated = [] \n",
    "for i in range(size): \n",
    "    k = i + 1\n",
    "    for j in range(k, size): \n",
    "            if l[i] == l[j]and l[i] not in repeated: \n",
    "                repeated.append(l[i]) \n",
    "print(repeated)"
   ]
  },
  {
   "cell_type": "markdown",
   "metadata": {},
   "source": [
    "# 6. Write a Python script to check if a given key already exists in a dictionary"
   ]
  },
  {
   "cell_type": "code",
   "execution_count": null,
   "metadata": {},
   "outputs": [],
   "source": [
    "dic={'Name':'Hassan','Age':'21','Roll-Num':123}\n",
    "n=input(\"Enter a key: \")\n",
    "for i,j in dic.items():\n",
    "    if n==i:\n",
    "        print(\"key is exist already\")\n",
    "        break\n",
    "    else:\n",
    "        print(\"New key is = \",n)\n",
    "        break"
   ]
  },
  {
   "cell_type": "code",
   "execution_count": null,
   "metadata": {},
   "outputs": [],
   "source": []
  }
 ],
 "metadata": {
  "kernelspec": {
   "display_name": "Python 3",
   "language": "python",
   "name": "python3"
  },
  "language_info": {
   "codemirror_mode": {
    "name": "ipython",
    "version": 3
   },
   "file_extension": ".py",
   "mimetype": "text/x-python",
   "name": "python",
   "nbconvert_exporter": "python",
   "pygments_lexer": "ipython3",
   "version": "3.7.3"
  }
 },
 "nbformat": 4,
 "nbformat_minor": 2
}
